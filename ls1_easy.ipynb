{
 "cells": [
  {
   "cell_type": "code",
   "execution_count": 2,
   "metadata": {},
   "outputs": [
    {
     "name": "stdout",
     "output_type": "stream",
     "text": [
      "Введите число: 573892\n",
      "2\n",
      "9\n",
      "8\n",
      "3\n",
      "7\n",
      "5\n"
     ]
    }
   ],
   "source": [
    "__author__ = 'Мария Худорожкова'\n",
    "\n",
    "# Задача-1: Дано произвольное целое число (число заранее неизвестно).\n",
    "# Вывести поочередно цифры исходного числа (порядок вывода цифр неважен).\n",
    "# Подсказки:\n",
    "# * постарайтесь решить задачу с применением арифметики и цикла while;\n",
    "# * при желании решите задачу с применением цикла for.\n",
    "\n",
    "zahl = int(input('Введите число: '))\n",
    "while zahl != 0:\n",
    "    print(zahl % 10)\n",
    "    zahl = zahl // 10"
   ]
  },
  {
   "cell_type": "code",
   "execution_count": 3,
   "metadata": {},
   "outputs": [
    {
     "name": "stdout",
     "output_type": "stream",
     "text": [
      "Введите первое число: 45\n",
      "Введите второе число: 99\n",
      "99\n",
      "45\n"
     ]
    }
   ],
   "source": [
    "# Задача-2: Исходные значения двух переменных запросить у пользователя.\n",
    "# Поменять значения переменных местами. Вывести новые значения на экран.\n",
    "# Подсказка:\n",
    "# * постарайтесь сделать решение через дополнительную переменную \n",
    "#   или через арифметические действия\n",
    "# Не нужно решать задачу так:\n",
    "# print(\"a = \", b, \"b = \", a) - это неправильное решение!\n",
    "\n",
    "a = int(input('Введите первое число: '))\n",
    "b = int(input('Введите второе число: '))\n",
    "a = a + b\n",
    "b = a - b\n",
    "a = a - b\n",
    "print(a, b, sep='\\n')"
   ]
  },
  {
   "cell_type": "code",
   "execution_count": 7,
   "metadata": {},
   "outputs": [
    {
     "name": "stdout",
     "output_type": "stream",
     "text": [
      "Укажите свой возраст: 12\n",
      "Извините, пользование данным ресурсом только с 18 лет\n"
     ]
    }
   ],
   "source": [
    "# Задача-3: Запросите у пользователя его возраст.\n",
    "# Если ему есть 18 лет, выведите: \"Доступ разрешен\",\n",
    "# иначе \"Извините, пользование данным ресурсом только с 18 лет\"\n",
    "\n",
    "alt = int(input('Укажите свой возраст: '))\n",
    "if alt > 18:\n",
    "    print('Доступ разрешен')\n",
    "else:\n",
    "    print('Извините, пользование данным ресурсом только с 18 лет')"
   ]
  },
  {
   "cell_type": "code",
   "execution_count": null,
   "metadata": {},
   "outputs": [],
   "source": []
  }
 ],
 "metadata": {
  "kernelspec": {
   "display_name": "Python 3",
   "language": "python",
   "name": "python3"
  },
  "language_info": {
   "codemirror_mode": {
    "name": "ipython",
    "version": 3
   },
   "file_extension": ".py",
   "mimetype": "text/x-python",
   "name": "python",
   "nbconvert_exporter": "python",
   "pygments_lexer": "ipython3",
   "version": "3.7.0"
  }
 },
 "nbformat": 4,
 "nbformat_minor": 2
}
