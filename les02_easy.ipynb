{
 "cells": [
  {
   "cell_type": "code",
   "execution_count": 77,
   "metadata": {},
   "outputs": [
    {
     "name": "stdout",
     "output_type": "stream",
     "text": [
      "1.     яблоко\n",
      "2.      банан\n",
      "3.       киви\n",
      "4.      арбуз\n"
     ]
    }
   ],
   "source": [
    "__author__ = 'Мария Худорожкова'\n",
    "# Задача-1:\n",
    "# Дан список фруктов.\n",
    "# Напишите программу, выводящую фрукты в виде нумерованного списка,\n",
    "# выровненного по правой стороне.\n",
    "\n",
    "# Пример:\n",
    "# Дано: [\"яблоко\", \"банан\", \"киви\", \"арбуз\"]\n",
    "# Вывод:\n",
    "# 1. яблоко\n",
    "# 2.  банан\n",
    "# 3.   киви\n",
    "# 4.  арбуз\n",
    "\n",
    "# Подсказка: воспользоваться методом .format() \n",
    "\n",
    "fruktiki = [\"яблоко\", \"банан\", \"киви\", \"арбуз\"]\n",
    "idx = 1\n",
    "for fruktik in fruktiki:\n",
    "    print('{0}. {1:>10}'.format(idx, fruktik))\n",
    "    idx += 1"
   ]
  },
  {
   "cell_type": "code",
   "execution_count": 56,
   "metadata": {},
   "outputs": [
    {
     "name": "stdout",
     "output_type": "stream",
     "text": [
      "['kot', 'pes', '23']\n"
     ]
    }
   ],
   "source": [
    "# Задача-2:\n",
    "# Даны два произвольные списка.\n",
    "# Удалите из первого списка элементы, присутствующие во втором списке.\n",
    "\n",
    "a = ['kot', 'pes', 'rybka', '23']\n",
    "b = ['dd', 'spiegel', 'log', 'rybka', 'somik']\n",
    "idx = 0\n",
    "for i in a:\n",
    "    if i in b:\n",
    "        a.pop(idx)\n",
    "    idx += 1\n",
    "print(a) "
   ]
  },
  {
   "cell_type": "code",
   "execution_count": 1,
   "metadata": {},
   "outputs": [
    {
     "name": "stdout",
     "output_type": "stream",
     "text": [
      "Введите количество элементов: 10\n",
      "Исходный список: [-97, -30, -57, 18, 85, 87, 30, 79, -78, 80]\n",
      "Новый список: [-194, -7.5, -114, 4.5, 170, 174, 7.5, 158, -19.5, 20.0]\n"
     ]
    }
   ],
   "source": [
    "# Задача-3:\n",
    "# Дан произвольный список из целых чисел.\n",
    "# Получите НОВЫЙ список из элементов исходного, выполнив следующие условия:\n",
    "# если элемент кратен двум, то разделить его на 4, если не кратен, то умножить на два.\n",
    "\n",
    "import random\n",
    "a = []\n",
    "sps = int(input('Введите количество элементов: '))\n",
    "while sps>0:\n",
    "    a.append(random.randint(-100, 100))\n",
    "    sps -= 1\n",
    "print('Исходный список:', a)\n",
    "\n",
    "b = []\n",
    "for i in a:\n",
    "    if i % 2 == 0:\n",
    "        i = i / 4\n",
    "    else: i = i * 2\n",
    "    b.append(i)\n",
    "print('Новый список:', b)"
   ]
  },
  {
   "cell_type": "code",
   "execution_count": null,
   "metadata": {},
   "outputs": [],
   "source": []
  }
 ],
 "metadata": {
  "kernelspec": {
   "display_name": "Python 3",
   "language": "python",
   "name": "python3"
  },
  "language_info": {
   "codemirror_mode": {
    "name": "ipython",
    "version": 3
   },
   "file_extension": ".py",
   "mimetype": "text/x-python",
   "name": "python",
   "nbconvert_exporter": "python",
   "pygments_lexer": "ipython3",
   "version": "3.7.0"
  }
 },
 "nbformat": 4,
 "nbformat_minor": 2
}
